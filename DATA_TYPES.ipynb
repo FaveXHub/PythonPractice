{
  "nbformat": 4,
  "nbformat_minor": 0,
  "metadata": {
    "colab": {
      "provenance": [],
      "authorship_tag": "ABX9TyOO0SUj+8jY2IikhgxIKCHD",
      "include_colab_link": true
    },
    "kernelspec": {
      "name": "python3",
      "display_name": "Python 3"
    },
    "language_info": {
      "name": "python"
    }
  },
  "cells": [
    {
      "cell_type": "markdown",
      "metadata": {
        "id": "view-in-github",
        "colab_type": "text"
      },
      "source": [
        "<a href=\"https://colab.research.google.com/github/favourdenn/PythonPractice/blob/main/DATA_TYPES.ipynb\" target=\"_parent\"><img src=\"https://colab.research.google.com/assets/colab-badge.svg\" alt=\"Open In Colab\"/></a>"
      ]
    },
    {
      "cell_type": "markdown",
      "source": [
        "**DATA TYPES IN PYTHON**\n",
        "\n",
        "\n",
        "*   Numeric - Integers, Float, Complex\n",
        "*   Boolean - True, False\n",
        "*   Sequence- Strings (Single quote, Double Quotes and Triple Quotes)\n",
        "*   List - Used in storing multiple values\n",
        "*   Set - Used in sorting out unique  values only\n",
        "*   Dictionary\n",
        "\n",
        "\n"
      ],
      "metadata": {
        "id": "MF00bdT9enDK"
      }
    },
    {
      "cell_type": "code",
      "execution_count": null,
      "metadata": {
        "colab": {
          "base_uri": "https://localhost:8080/"
        },
        "id": "MM9EK2EHecHb",
        "outputId": "56f8a5e4-9463-4ab6-e173-f02b488f3a62"
      },
      "outputs": [
        {
          "output_type": "execute_result",
          "data": {
            "text/plain": [
              "int"
            ]
          },
          "metadata": {},
          "execution_count": 1
        }
      ],
      "source": [
        "#NUMERIC\n",
        "#integer (Whole numbers)\n",
        "type(12+100)"
      ]
    },
    {
      "cell_type": "code",
      "source": [
        "type(-12+100)"
      ],
      "metadata": {
        "colab": {
          "base_uri": "https://localhost:8080/"
        },
        "id": "TqHepjOjegl0",
        "outputId": "ba8c1554-5e35-4e33-eb99-f2c206eb136f"
      },
      "execution_count": null,
      "outputs": [
        {
          "output_type": "execute_result",
          "data": {
            "text/plain": [
              "int"
            ]
          },
          "metadata": {},
          "execution_count": 2
        }
      ]
    },
    {
      "cell_type": "code",
      "source": [
        "#Float\n",
        "type(12+10.25)"
      ],
      "metadata": {
        "colab": {
          "base_uri": "https://localhost:8080/"
        },
        "id": "z1nz0bkMedlM",
        "outputId": "76a410f8-0b07-427c-a914-54b0b01fdd7e"
      },
      "execution_count": null,
      "outputs": [
        {
          "output_type": "execute_result",
          "data": {
            "text/plain": [
              "float"
            ]
          },
          "metadata": {},
          "execution_count": 3
        }
      ]
    },
    {
      "cell_type": "code",
      "source": [
        "#Complex (imaginary number)\n",
        "type(12+3j)"
      ],
      "metadata": {
        "colab": {
          "base_uri": "https://localhost:8080/"
        },
        "id": "FCWrdWfrejB8",
        "outputId": "e39552af-0917-43b3-e291-17b6bb1d8b00"
      },
      "execution_count": null,
      "outputs": [
        {
          "output_type": "execute_result",
          "data": {
            "text/plain": [
              "complex"
            ]
          },
          "metadata": {},
          "execution_count": 4
        }
      ]
    },
    {
      "cell_type": "code",
      "source": [
        "#BOOLEAN VALUES\n",
        "type(True)"
      ],
      "metadata": {
        "colab": {
          "base_uri": "https://localhost:8080/"
        },
        "id": "KYJNEGOfhxTj",
        "outputId": "23fc9581-c1f3-4f4f-a9bd-6c9cdb1ac447"
      },
      "execution_count": null,
      "outputs": [
        {
          "output_type": "execute_result",
          "data": {
            "text/plain": [
              "bool"
            ]
          },
          "metadata": {},
          "execution_count": 6
        }
      ]
    },
    {
      "cell_type": "code",
      "source": [
        "type(1>5)"
      ],
      "metadata": {
        "colab": {
          "base_uri": "https://localhost:8080/"
        },
        "id": "_uajmfNHiE4s",
        "outputId": "743103cd-e281-4202-d7e9-4ded2fbb8a04"
      },
      "execution_count": null,
      "outputs": [
        {
          "output_type": "execute_result",
          "data": {
            "text/plain": [
              "bool"
            ]
          },
          "metadata": {},
          "execution_count": 7
        }
      ]
    },
    {
      "cell_type": "code",
      "source": [
        "#SEQUENCE\n",
        "'hello world single quote'"
      ],
      "metadata": {
        "colab": {
          "base_uri": "https://localhost:8080/",
          "height": 36
        },
        "id": "x1RhEwp1iMgJ",
        "outputId": "4eb89575-7d9a-48a6-8b24-792e0727ff7f"
      },
      "execution_count": null,
      "outputs": [
        {
          "output_type": "execute_result",
          "data": {
            "text/plain": [
              "'hello world single quote'"
            ],
            "application/vnd.google.colaboratory.intrinsic+json": {
              "type": "string"
            }
          },
          "metadata": {},
          "execution_count": 9
        }
      ]
    },
    {
      "cell_type": "code",
      "source": [
        "\"hello world double quote\""
      ],
      "metadata": {
        "colab": {
          "base_uri": "https://localhost:8080/",
          "height": 36
        },
        "id": "5HsrQPB5ieJv",
        "outputId": "6b93b4eb-0faf-4585-8c3e-e6461f302ce5"
      },
      "execution_count": null,
      "outputs": [
        {
          "output_type": "execute_result",
          "data": {
            "text/plain": [
              "'hello world double quote'"
            ],
            "application/vnd.google.colaboratory.intrinsic+json": {
              "type": "string"
            }
          },
          "metadata": {},
          "execution_count": 12
        }
      ]
    },
    {
      "cell_type": "code",
      "source": [
        "\"\"\"\n",
        "hello world, my name is Favour  and i am learn python  recently on triple quotation sequence\n",
        "\"\"\""
      ],
      "metadata": {
        "colab": {
          "base_uri": "https://localhost:8080/",
          "height": 53
        },
        "id": "bunkRGAiiszO",
        "outputId": "2b8ee973-a25c-4509-fda8-cf6083d2d0a4"
      },
      "execution_count": null,
      "outputs": [
        {
          "output_type": "execute_result",
          "data": {
            "text/plain": [
              "'\\nhello world, my name is Favour  and i am learn python  recently on triple quotation sequence \\n'"
            ],
            "application/vnd.google.colaboratory.intrinsic+json": {
              "type": "string"
            }
          },
          "metadata": {},
          "execution_count": 15
        }
      ]
    },
    {
      "cell_type": "code",
      "source": [
        "#string can be search with index\n",
        "a='hello world'\n",
        "print(a[5])"
      ],
      "metadata": {
        "colab": {
          "base_uri": "https://localhost:8080/"
        },
        "id": "WqEVq82njX62",
        "outputId": "e26d0279-69e1-4d1f-9133-391d22c7a5d8"
      },
      "execution_count": null,
      "outputs": [
        {
          "output_type": "stream",
          "name": "stdout",
          "text": [
            " \n"
          ]
        }
      ]
    },
    {
      "cell_type": "code",
      "source": [
        "a='hello world'\n",
        "print(a[:5])"
      ],
      "metadata": {
        "colab": {
          "base_uri": "https://localhost:8080/"
        },
        "id": "kxTS3xFykkHa",
        "outputId": "0c84ba62-369a-4e10-e380-f1bc9b06f8b3"
      },
      "execution_count": null,
      "outputs": [
        {
          "output_type": "stream",
          "name": "stdout",
          "text": [
            "hello\n"
          ]
        }
      ]
    },
    {
      "cell_type": "code",
      "source": [
        "#List\n",
        "(1,2,3)"
      ],
      "metadata": {
        "colab": {
          "base_uri": "https://localhost:8080/"
        },
        "id": "ncjY2qMjktBQ",
        "outputId": "e0794f86-6204-4c7f-c458-e0e4164d5f89"
      },
      "execution_count": null,
      "outputs": [
        {
          "output_type": "execute_result",
          "data": {
            "text/plain": [
              "(1, 2, 3)"
            ]
          },
          "metadata": {},
          "execution_count": 24
        }
      ]
    },
    {
      "cell_type": "code",
      "source": [
        "['chocolate','vanilla','strawberry']"
      ],
      "metadata": {
        "colab": {
          "base_uri": "https://localhost:8080/"
        },
        "id": "nN2J3RTDk02Y",
        "outputId": "5115a694-71e5-4190-89f9-1e519df95115"
      },
      "execution_count": null,
      "outputs": [
        {
          "output_type": "execute_result",
          "data": {
            "text/plain": [
              "['chocolate', 'vanilla', 'strawberry']"
            ]
          },
          "metadata": {},
          "execution_count": 25
        }
      ]
    },
    {
      "cell_type": "code",
      "source": [
        "#list within list\n",
        "['chocolate','vanilla',3,['spoon','scope',3,True]]"
      ],
      "metadata": {
        "colab": {
          "base_uri": "https://localhost:8080/"
        },
        "id": "w9lkNH59lHxD",
        "outputId": "ac712128-4b4e-41e7-8e75-1fce37020765"
      },
      "execution_count": null,
      "outputs": [
        {
          "output_type": "execute_result",
          "data": {
            "text/plain": [
              "['chocolate', 'vanilla', 3, ['spoon', 'scope', 3, True]]"
            ]
          },
          "metadata": {},
          "execution_count": 30
        }
      ]
    },
    {
      "cell_type": "code",
      "source": [
        "#Nested List\n",
        "nested_list=['vanilla',2,['scoop','spoon',True]]\n",
        "print(nested_list[2][1])"
      ],
      "metadata": {
        "colab": {
          "base_uri": "https://localhost:8080/"
        },
        "id": "frRjwadJlz2W",
        "outputId": "d6b91784-f49f-4f79-c42b-2acf44cf08ef"
      },
      "execution_count": null,
      "outputs": [
        {
          "output_type": "stream",
          "name": "stdout",
          "text": [
            "spoon\n"
          ]
        }
      ]
    },
    {
      "cell_type": "code",
      "source": [
        "#tuple (data cannot be modified)\n",
        "tuple_scoop=(1,2,3,2,)\n",
        "type(tuple_scoop)"
      ],
      "metadata": {
        "id": "XYEMyXLwnOE1",
        "colab": {
          "base_uri": "https://localhost:8080/"
        },
        "outputId": "056c2221-eaf2-453c-d8c5-bd467299c74d"
      },
      "execution_count": null,
      "outputs": [
        {
          "output_type": "execute_result",
          "data": {
            "text/plain": [
              "tuple"
            ]
          },
          "metadata": {},
          "execution_count": 37
        }
      ]
    },
    {
      "cell_type": "code",
      "source": [
        "#SETS\n",
        "my_account={12,2,44,33,3,5,5,50}\n",
        "type(my_account)"
      ],
      "metadata": {
        "colab": {
          "base_uri": "https://localhost:8080/"
        },
        "id": "z8T33eEIqyIZ",
        "outputId": "52c98aa9-796c-4073-abcd-79b6782c7612"
      },
      "execution_count": 38,
      "outputs": [
        {
          "output_type": "execute_result",
          "data": {
            "text/plain": [
              "set"
            ]
          },
          "metadata": {},
          "execution_count": 38
        }
      ]
    },
    {
      "cell_type": "code",
      "source": [
        "#--> for comparison (not common values)\n",
        "team_account={1,2,2,40,50,3,3}\n",
        "print(my_account-team_account)"
      ],
      "metadata": {
        "colab": {
          "base_uri": "https://localhost:8080/"
        },
        "id": "pRz_E5NGrOvK",
        "outputId": "c1ef4d4d-362e-4380-f520-8113e052126f"
      },
      "execution_count": 40,
      "outputs": [
        {
          "output_type": "stream",
          "name": "stdout",
          "text": [
            "{33, 12, 5, 44}\n"
          ]
        }
      ]
    },
    {
      "cell_type": "code",
      "source": [
        "#--> for comparison (unique values)\n",
        "team_account={1,2,2,40,50,3,3}\n",
        "print(my_account|team_account)"
      ],
      "metadata": {
        "colab": {
          "base_uri": "https://localhost:8080/"
        },
        "id": "WJP46Hgpr9N2",
        "outputId": "611167c0-eb84-42d3-d19d-64b0cee5f48d"
      },
      "execution_count": 41,
      "outputs": [
        {
          "output_type": "stream",
          "name": "stdout",
          "text": [
            "{33, 2, 3, 1, 5, 40, 12, 44, 50}\n"
          ]
        }
      ]
    },
    {
      "cell_type": "code",
      "source": [
        "#--> for comparison (common values)\n",
        "team_account={1,2,2,40,50,3,3}\n",
        "print(my_account & team_account)"
      ],
      "metadata": {
        "colab": {
          "base_uri": "https://localhost:8080/"
        },
        "id": "zjmsMHDXsLQ_",
        "outputId": "94d9b24e-4e35-4f4f-e343-5504272c0af0"
      },
      "execution_count": 43,
      "outputs": [
        {
          "output_type": "stream",
          "name": "stdout",
          "text": [
            "{2, 3, 50}\n"
          ]
        }
      ]
    },
    {
      "cell_type": "code",
      "source": [
        "#Dictionaries"
      ],
      "metadata": {
        "id": "LxhN0rlatDrZ"
      },
      "execution_count": null,
      "outputs": []
    }
  ]
}