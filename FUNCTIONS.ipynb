{
  "nbformat": 4,
  "nbformat_minor": 0,
  "metadata": {
    "colab": {
      "provenance": [],
      "authorship_tag": "ABX9TyOuBzgO9tiuk9iS8G1SFUey",
      "include_colab_link": true
    },
    "kernelspec": {
      "name": "python3",
      "display_name": "Python 3"
    },
    "language_info": {
      "name": "python"
    }
  },
  "cells": [
    {
      "cell_type": "markdown",
      "metadata": {
        "id": "view-in-github",
        "colab_type": "text"
      },
      "source": [
        "<a href=\"https://colab.research.google.com/github/FaveXHub/PythonPractice/blob/main/FUNCTIONS.ipynb\" target=\"_parent\"><img src=\"https://colab.research.google.com/assets/colab-badge.svg\" alt=\"Open In Colab\"/></a>"
      ]
    },
    {
      "cell_type": "markdown",
      "source": [
        "#FUNCTIONS\n",
        "It is a block of code run only when it is called\n",
        "\n",
        "def function():\n",
        "  print('My first function)\n",
        "\n",
        "function() - function call\n",
        "My first function - output"
      ],
      "metadata": {
        "id": "bzY9sa3X2BUL"
      }
    },
    {
      "cell_type": "code",
      "execution_count": 1,
      "metadata": {
        "colab": {
          "base_uri": "https://localhost:8080/"
        },
        "id": "V41ABP6016r4",
        "outputId": "00bb171e-05cb-4714-a871-3a9f9cbe9de1"
      },
      "outputs": [
        {
          "output_type": "stream",
          "name": "stdout",
          "text": [
            "My first function\n"
          ]
        }
      ],
      "source": [
        "def first_function():\n",
        "  print('My first function')\n",
        "\n",
        "first_function()"
      ]
    },
    {
      "cell_type": "code",
      "source": [
        "#Argument\n",
        "def number_square(number):\n",
        "  print(number**2)\n",
        "\n",
        "  number_square(5)"
      ],
      "metadata": {
        "id": "3GxGb6Km3fyc"
      },
      "execution_count": 7,
      "outputs": []
    },
    {
      "cell_type": "code",
      "source": [
        "def number_square_cust(number,power):\n",
        "  print(number**power)\n",
        "\n",
        "number_square_cust(3,1)"
      ],
      "metadata": {
        "colab": {
          "base_uri": "https://localhost:8080/"
        },
        "id": "EWvsAoiY332J",
        "outputId": "34009c79-ffe9-4adb-d1d3-819f3700cd6f"
      },
      "execution_count": 5,
      "outputs": [
        {
          "output_type": "stream",
          "name": "stdout",
          "text": [
            "3\n"
          ]
        }
      ]
    },
    {
      "cell_type": "code",
      "source": [
        "#Arbitrary Arguments\n",
        "arg_tuple=(5,6,1,2,8)\n",
        "def number_arg(*arg):\n",
        "    print(arg[0]*arg[1])\n",
        "number_arg(5,6,1,2,8)"
      ],
      "metadata": {
        "colab": {
          "base_uri": "https://localhost:8080/"
        },
        "id": "o9soT8w24eH_",
        "outputId": "917bc0be-261d-4f56-97e1-fdcdbf70af8d"
      },
      "execution_count": 10,
      "outputs": [
        {
          "output_type": "stream",
          "name": "stdout",
          "text": [
            "30\n"
          ]
        }
      ]
    },
    {
      "cell_type": "code",
      "source": [
        "#keyword argument and arbitrary keyword\n",
        "def number_square_cust(number,power):\n",
        "  print(number**power)\n",
        "\n",
        "number_square_cust(power=3,number=2)"
      ],
      "metadata": {
        "colab": {
          "base_uri": "https://localhost:8080/"
        },
        "id": "oUdm5zoa6xwc",
        "outputId": "fbb31e01-ebb8-4304-93b5-47367467f6be"
      },
      "execution_count": 13,
      "outputs": [
        {
          "output_type": "stream",
          "name": "stdout",
          "text": [
            "8\n"
          ]
        }
      ]
    },
    {
      "cell_type": "code",
      "source": [
        "def number_arg(**number):\n",
        "  print('my number 20'+ number['integer'])\n",
        "number_arg(integer='1620')"
      ],
      "metadata": {
        "colab": {
          "base_uri": "https://localhost:8080/"
        },
        "id": "4-lthCXE7ch-",
        "outputId": "28f379ae-a640-4fa2-c4dc-8316cc5b11a3"
      },
      "execution_count": 14,
      "outputs": [
        {
          "output_type": "stream",
          "name": "stdout",
          "text": [
            "my number 201620\n"
          ]
        }
      ]
    },
    {
      "cell_type": "code",
      "source": [],
      "metadata": {
        "id": "r3sBkVzh9SLV"
      },
      "execution_count": null,
      "outputs": []
    }
  ]
}