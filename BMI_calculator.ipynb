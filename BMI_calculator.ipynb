{
  "nbformat": 4,
  "nbformat_minor": 0,
  "metadata": {
    "colab": {
      "provenance": [],
      "authorship_tag": "ABX9TyO6MyiRb+rfhAsXZJuy1viU",
      "include_colab_link": true
    },
    "kernelspec": {
      "name": "python3",
      "display_name": "Python 3"
    },
    "language_info": {
      "name": "python"
    }
  },
  "cells": [
    {
      "cell_type": "markdown",
      "metadata": {
        "id": "view-in-github",
        "colab_type": "text"
      },
      "source": [
        "<a href=\"https://colab.research.google.com/github/FaveXHub/PythonPractice/blob/main/BMI_calculator.ipynb\" target=\"_parent\"><img src=\"https://colab.research.google.com/assets/colab-badge.svg\" alt=\"Open In Colab\"/></a>"
      ]
    },
    {
      "cell_type": "code",
      "source": [
        "name=input('enter your name')\n",
        "weight=int(input('enter your weight in pounds'))\n",
        "height=float(input('enter your height in cm'))\n",
        "BMI=(weight*703)/(height*height)\n",
        "print(BMI)"
      ],
      "metadata": {
        "colab": {
          "base_uri": "https://localhost:8080/"
        },
        "id": "O_uyY6AAHKvb",
        "outputId": "28b39fb8-dcd0-48ec-c142-a495d6dc0cd1"
      },
      "execution_count": null,
      "outputs": [
        {
          "output_type": "stream",
          "name": "stdout",
          "text": [
            "enter your nameFavour Dennis \n",
            "enter your weight in pounds49\n",
            "enter your height in cm4.5\n",
            "1701.0864197530864\n"
          ]
        }
      ]
    },
    {
      "cell_type": "code",
      "source": [
        "name=input('enter your name')\n",
        "weight=int(input('enter your weight in pounds'))\n",
        "height=int(input('enter your height in inches'))\n",
        "BMI=(weight*703)/(height*height)\n",
        "print(BMI)"
      ],
      "metadata": {
        "colab": {
          "base_uri": "https://localhost:8080/"
        },
        "id": "hnclopVwGsM2",
        "outputId": "35bd58db-608b-46e5-888d-a56882df331e"
      },
      "execution_count": null,
      "outputs": [
        {
          "output_type": "stream",
          "name": "stdout",
          "text": [
            "enter your nameFavour Dennis \n",
            "enter your weight in pounds49\n",
            "enter your height in inches10\n",
            "344.47\n"
          ]
        }
      ]
    },
    {
      "cell_type": "code",
      "source": [
        "if BMI>0:\n",
        "    if(BMI<18.5):\n",
        "        print(name +', you are underweight')\n",
        "    else:\n",
        "      print(name +', you are not underweight')\n",
        "else:\n",
        "    print('enter valid input')"
      ],
      "metadata": {
        "colab": {
          "base_uri": "https://localhost:8080/"
        },
        "id": "se_sX6SPHmsw",
        "outputId": "420ad162-e6b2-48d9-e784-ef54c848684a"
      },
      "execution_count": null,
      "outputs": [
        {
          "output_type": "stream",
          "name": "stdout",
          "text": [
            "Favour Dennis , you are not underweight\n"
          ]
        }
      ]
    },
    {
      "cell_type": "code",
      "source": [
        "if BMI > 0:\n",
        "    if BMI < 18.5:\n",
        "        print(name + ', you are underweight')\n",
        "    elif BMI <= 24.9:\n",
        "        print(name + ', you are normal weight')\n",
        "    elif BMI < 29.9:\n",
        "        print(name + ', you are overweight')\n",
        "    elif BMI < 34.9:\n",
        "        print(name + ', you are obese')\n",
        "    elif BMI < 39.9:\n",
        "        print(name + ', you are severely obese')\n",
        "    else:\n",
        "        print(name + ', you are morbidly obese')\n",
        "else:\n",
        "    print('enter valid input')"
      ],
      "metadata": {
        "id": "hjKixNVsIB2-",
        "colab": {
          "base_uri": "https://localhost:8080/"
        },
        "outputId": "a6817d97-d103-481f-ca24-8d92ec85a4b7"
      },
      "execution_count": 12,
      "outputs": [
        {
          "output_type": "stream",
          "name": "stdout",
          "text": [
            "Favour Dennis , you are morbidly obese\n"
          ]
        }
      ]
    }
  ]
}