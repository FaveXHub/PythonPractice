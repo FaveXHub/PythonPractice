{
  "nbformat": 4,
  "nbformat_minor": 0,
  "metadata": {
    "colab": {
      "provenance": [],
      "authorship_tag": "ABX9TyMwNzjQ6IhZLdh3fgnRiSrX",
      "include_colab_link": true
    },
    "kernelspec": {
      "name": "python3",
      "display_name": "Python 3"
    },
    "language_info": {
      "name": "python"
    }
  },
  "cells": [
    {
      "cell_type": "markdown",
      "metadata": {
        "id": "view-in-github",
        "colab_type": "text"
      },
      "source": [
        "<a href=\"https://colab.research.google.com/github/FaveXHub/PythonPractice/blob/main/If_Else_Statement.ipynb\" target=\"_parent\"><img src=\"https://colab.research.google.com/assets/colab-badge.svg\" alt=\"Open In Colab\"/></a>"
      ]
    },
    {
      "cell_type": "code",
      "execution_count": 1,
      "metadata": {
        "colab": {
          "base_uri": "https://localhost:8080/"
        },
        "id": "gKzFvsVNUvqo",
        "outputId": "a95d0838-6005-4fb7-a22f-eb05fe0631a1"
      },
      "outputs": [
        {
          "output_type": "stream",
          "name": "stdout",
          "text": [
            "it worked\n"
          ]
        }
      ],
      "source": [
        "if 25>10:\n",
        "  print('it worked')"
      ]
    },
    {
      "cell_type": "code",
      "source": [
        "if 25<10:\n",
        "  print('it worked')"
      ],
      "metadata": {
        "id": "SD6XmA4nVXxG"
      },
      "execution_count": 5,
      "outputs": []
    },
    {
      "cell_type": "code",
      "source": [
        "if 25<10:\n",
        "  print('it worked')\n",
        "else:\n",
        "  print('it did not work...')"
      ],
      "metadata": {
        "colab": {
          "base_uri": "https://localhost:8080/"
        },
        "id": "7y5F1-TSVzIn",
        "outputId": "74612799-a373-4c5c-deb3-6cff15bea539"
      },
      "execution_count": 6,
      "outputs": [
        {
          "output_type": "stream",
          "name": "stdout",
          "text": [
            "it did not work...\n"
          ]
        }
      ]
    },
    {
      "cell_type": "code",
      "source": [
        "if 25<10:\n",
        "  print('it worked')\n",
        "elif 25<26:\n",
        "  print('elif worked')\n",
        "else:\n",
        "  print('it did not work...')"
      ],
      "metadata": {
        "colab": {
          "base_uri": "https://localhost:8080/"
        },
        "id": "v9UsOYOUWI4n",
        "outputId": "adb90181-e4ae-4d7e-ed9c-003356f74e6c"
      },
      "execution_count": 9,
      "outputs": [
        {
          "output_type": "stream",
          "name": "stdout",
          "text": [
            "elif worked\n"
          ]
        }
      ]
    },
    {
      "cell_type": "code",
      "source": [
        "if (25<10)or(1>3):\n",
        "  print('it worked')\n",
        "elif 25<26:\n",
        "  print('elif worked')\n",
        "else:\n",
        "  print('it did not work...')"
      ],
      "metadata": {
        "colab": {
          "base_uri": "https://localhost:8080/"
        },
        "id": "0RddmWMAW9cv",
        "outputId": "5c88521b-a56b-438f-c675-516613702187"
      },
      "execution_count": 10,
      "outputs": [
        {
          "output_type": "stream",
          "name": "stdout",
          "text": [
            "elif worked\n"
          ]
        }
      ]
    },
    {
      "cell_type": "code",
      "source": [
        "print('it worked')if 10>30 else print('it did not work...')"
      ],
      "metadata": {
        "colab": {
          "base_uri": "https://localhost:8080/"
        },
        "id": "mTGRfMabXsO_",
        "outputId": "1d96df48-413f-45d6-9935-bd34b5f71d04"
      },
      "execution_count": 11,
      "outputs": [
        {
          "output_type": "stream",
          "name": "stdout",
          "text": [
            "it did not work...\n"
          ]
        }
      ]
    },
    {
      "cell_type": "code",
      "source": [
        "#Nested If statement\n",
        "if(25<10) or (1>4):\n",
        "  print('it worked')\n",
        "  if 10>5:\n",
        "    print('this nested if statement worked')\n",
        "elif 25>40:\n",
        "  print('elif worked')\n",
        "else:\n",
        "  print('it did not work...')"
      ],
      "metadata": {
        "colab": {
          "base_uri": "https://localhost:8080/"
        },
        "id": "H41wDRk8X6y7",
        "outputId": "123feeb3-938e-4e86-88b9-c82e0c2bfe5c"
      },
      "execution_count": 12,
      "outputs": [
        {
          "output_type": "stream",
          "name": "stdout",
          "text": [
            "it did not work...\n"
          ]
        }
      ]
    }
  ]
}