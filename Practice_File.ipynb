{
  "nbformat": 4,
  "nbformat_minor": 0,
  "metadata": {
    "colab": {
      "provenance": [],
      "authorship_tag": "ABX9TyMGH8hgO60O6czeg79WF486",
      "include_colab_link": true
    },
    "kernelspec": {
      "name": "python3",
      "display_name": "Python 3"
    },
    "language_info": {
      "name": "python"
    }
  },
  "cells": [
    {
      "cell_type": "markdown",
      "metadata": {
        "id": "view-in-github",
        "colab_type": "text"
      },
      "source": [
        "<a href=\"https://colab.research.google.com/github/favourdenn/PythonPractice/blob/main/Practice_File.ipynb\" target=\"_parent\"><img src=\"https://colab.research.google.com/assets/colab-badge.svg\" alt=\"Open In Colab\"/></a>"
      ]
    },
    {
      "cell_type": "code",
      "execution_count": 8,
      "metadata": {
        "colab": {
          "base_uri": "https://localhost:8080/"
        },
        "id": "MhS-0VRkNk9I",
        "outputId": "3f26cdde-6ec1-486a-842d-8581c31de58b"
      },
      "outputs": [
        {
          "output_type": "stream",
          "name": "stdout",
          "text": [
            "10 12\n"
          ]
        }
      ],
      "source": [
        "#Viarables (Integers)\n",
        "x=10\n",
        "y=12\n",
        "print(x,y)"
      ]
    },
    {
      "cell_type": "code",
      "source": [
        "x=10\n",
        "y=20\n",
        "y<x\n"
      ],
      "metadata": {
        "colab": {
          "base_uri": "https://localhost:8080/"
        },
        "id": "5gYKNhh6N9Xh",
        "outputId": "e324501d-87c1-44c3-e174-83311e625c7e"
      },
      "execution_count": 2,
      "outputs": [
        {
          "output_type": "execute_result",
          "data": {
            "text/plain": [
              "False"
            ]
          },
          "metadata": {},
          "execution_count": 2
        }
      ]
    },
    {
      "cell_type": "code",
      "source": [
        "#String Tezt to Variable\n",
        "#Overwrite Previous Variable\n",
        "y='mint chocolate chip'\n",
        "Y='chocolate'\n",
        "print(Y)"
      ],
      "metadata": {
        "colab": {
          "base_uri": "https://localhost:8080/"
        },
        "id": "z7NQScjSO9ig",
        "outputId": "15865d58-25be-477a-fb16-b54b9701a8fa"
      },
      "execution_count": 17,
      "outputs": [
        {
          "output_type": "stream",
          "name": "stdout",
          "text": [
            "chocolate\n"
          ]
        }
      ]
    },
    {
      "cell_type": "code",
      "source": [
        "#Multiple values to Multiple Variables\n",
        "x,y,z='chocolate','vanilla','strawberry'\n",
        "print(x,y,z)"
      ],
      "metadata": {
        "colab": {
          "base_uri": "https://localhost:8080/"
        },
        "id": "BGPmxEZlO9x4",
        "outputId": "8d29966d-b23b-4c10-cfa1-6725f1d62880"
      },
      "execution_count": 18,
      "outputs": [
        {
          "output_type": "stream",
          "name": "stdout",
          "text": [
            "chocolate vanilla strawberry\n"
          ]
        }
      ]
    },
    {
      "cell_type": "code",
      "source": [
        "#Multiple Variables to One Value\n",
        "x=y=z='root bear float'\n",
        "print(x)\n",
        "print(y)\n",
        "print(z)"
      ],
      "metadata": {
        "colab": {
          "base_uri": "https://localhost:8080/"
        },
        "id": "3hauYzO_PysH",
        "outputId": "832268a9-ccd7-4b9f-c9fe-5fef0faacac7"
      },
      "execution_count": 19,
      "outputs": [
        {
          "output_type": "stream",
          "name": "stdout",
          "text": [
            "root bear float\n",
            "root bear float\n",
            "root bear float\n"
          ]
        }
      ]
    },
    {
      "cell_type": "code",
      "source": [
        "#Create List and Dictionary\n",
        "ice_cream=('chocolate','cream','mayo')\n",
        "x,y,z=ice_cream\n",
        "print(x)\n",
        "print(y)\n",
        "print(z)"
      ],
      "metadata": {
        "colab": {
          "base_uri": "https://localhost:8080/"
        },
        "id": "1XCLRtCJQhdJ",
        "outputId": "27b68c56-498a-4065-f012-750f29f95004"
      },
      "execution_count": 10,
      "outputs": [
        {
          "output_type": "stream",
          "name": "stdout",
          "text": [
            "chocolate\n",
            "cream\n",
            "mayo\n"
          ]
        }
      ]
    },
    {
      "cell_type": "code",
      "source": [
        "#OTHER WAYS OF NAMING VARIABLES\n",
        "#Camel Case\n",
        "#first variable case\n",
        "testVariablecase='vanilla case'"
      ],
      "metadata": {
        "id": "5YsWzNJVSHa4"
      },
      "execution_count": 11,
      "outputs": []
    },
    {
      "cell_type": "code",
      "source": [
        "#Pascal Case\n",
        "#First Case\n",
        "Testvariablecase='vanilla case'"
      ],
      "metadata": {
        "id": "gPsPu4-6Skbx"
      },
      "execution_count": 12,
      "outputs": []
    },
    {
      "cell_type": "code",
      "source": [
        "#Snake Case (MOST COMMON USE FOR EASY UNDERSTANDING)\n",
        "#first case\n",
        "Test_variable_case='vanilla case'"
      ],
      "metadata": {
        "id": "7-kZ1EqOSmWL"
      },
      "execution_count": 14,
      "outputs": []
    },
    {
      "cell_type": "code",
      "source": [
        "#USING +\n",
        "x='ice_cream is my favourite'+\".\"\n",
        "print(x)"
      ],
      "metadata": {
        "colab": {
          "base_uri": "https://localhost:8080/"
        },
        "id": "sLcrW9CbSn7q",
        "outputId": "77b9ac4e-69c5-4607-aedd-d0f0fa317acc"
      },
      "execution_count": 15,
      "outputs": [
        {
          "output_type": "stream",
          "name": "stdout",
          "text": [
            "ice_cream is my favourite.\n"
          ]
        }
      ]
    },
    {
      "cell_type": "code",
      "source": [
        "y=3+2\n",
        "print(y)"
      ],
      "metadata": {
        "colab": {
          "base_uri": "https://localhost:8080/"
        },
        "id": "iFoyQGoISsRA",
        "outputId": "bdc7d1e4-8853-4269-b44f-51d1c035cca8"
      },
      "execution_count": 16,
      "outputs": [
        {
          "output_type": "stream",
          "name": "stdout",
          "text": [
            "5\n"
          ]
        }
      ]
    },
    {
      "cell_type": "code",
      "source": [
        "#multiple variables in a print state\n",
        "x='ice_cream'\n",
        "y=' is'\n",
        "z=' my favourite'\n",
        "print(x+y+z)"
      ],
      "metadata": {
        "colab": {
          "base_uri": "https://localhost:8080/"
        },
        "id": "lTducVB3UGVe",
        "outputId": "556f015b-b189-4dae-ce75-2673e8524b6d"
      },
      "execution_count": 20,
      "outputs": [
        {
          "output_type": "stream",
          "name": "stdout",
          "text": [
            "ice_cream is my favourite\n"
          ]
        }
      ]
    },
    {
      "cell_type": "code",
      "source": [
        "#using integers\n",
        "x=1\n",
        "y=2\n",
        "z=3\n",
        "print(x+y+z)"
      ],
      "metadata": {
        "colab": {
          "base_uri": "https://localhost:8080/"
        },
        "id": "yE_7oV8pVE11",
        "outputId": "e4cba987-8160-482c-fc9a-ad12fa7094ee"
      },
      "execution_count": 21,
      "outputs": [
        {
          "output_type": "stream",
          "name": "stdout",
          "text": [
            "6\n"
          ]
        }
      ]
    },
    {
      "cell_type": "code",
      "source": [
        "#seperating steings and integers using a comma\n",
        "x='ice_cream'\n",
        "y=2\n",
        "print(x,y)"
      ],
      "metadata": {
        "colab": {
          "base_uri": "https://localhost:8080/"
        },
        "id": "GCx-Xc73VRw6",
        "outputId": "e5015d33-9cf9-4b3c-cabd-ad22ab839cfe"
      },
      "execution_count": 22,
      "outputs": [
        {
          "output_type": "stream",
          "name": "stdout",
          "text": [
            "ice_cream 2\n"
          ]
        }
      ]
    },
    {
      "cell_type": "code",
      "source": [],
      "metadata": {
        "id": "sFP2o7v-VjTB"
      },
      "execution_count": null,
      "outputs": []
    }
  ]
}