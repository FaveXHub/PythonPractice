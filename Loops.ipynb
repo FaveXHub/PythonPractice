{
  "cells": [
    {
      "cell_type": "markdown",
      "metadata": {
        "id": "view-in-github",
        "colab_type": "text"
      },
      "source": [
        "<a href=\"https://colab.research.google.com/github/FaveXHub/PythonPractice/blob/main/Loops.ipynb\" target=\"_parent\"><img src=\"https://colab.research.google.com/assets/colab-badge.svg\" alt=\"Open In Colab\"/></a>"
      ]
    },
    {
      "cell_type": "markdown",
      "metadata": {
        "id": "AErorYgRZrWt"
      },
      "source": [
        "#LOOPS\n",
        "They can be used to iterate over a sequence which could be a list, a tuple, an array, a string or even a dictionary"
      ]
    },
    {
      "cell_type": "code",
      "execution_count": null,
      "metadata": {
        "colab": {
          "background_save": true,
          "base_uri": "https://localhost:8080/"
        },
        "id": "clR7i7daZk2I",
        "outputId": "c704034b-b3d6-4c8d-f6fb-81fd937f6d27"
      },
      "outputs": [
        {
          "name": "stdout",
          "output_type": "stream",
          "text": [
            "1\n",
            "2\n",
            "4\n",
            "7\n"
          ]
        }
      ],
      "source": [
        "int=[1,2,4,7]\n",
        "for number in int:\n",
        "  print(number)"
      ]
    },
    {
      "cell_type": "code",
      "execution_count": null,
      "metadata": {
        "colab": {
          "background_save": true,
          "base_uri": "https://localhost:8080/"
        },
        "id": "LtHprpOKb_GU",
        "outputId": "062aeb13-eedf-4c21-80c2-023cfab516a0"
      },
      "outputs": [
        {
          "name": "stdout",
          "output_type": "stream",
          "text": [
            "Favour\n",
            "5\n",
            "['nitrion', 'physiology']\n"
          ]
        }
      ],
      "source": [
        "#For Dictionary\n",
        "agric_uniuyo_dict={'name':'Favour','study routine':5,'animal science':['nitrion','physiology']}\n",
        "for routine in agric_uniuyo_dict.values():\n",
        "  print(routine)"
      ]
    },
    {
      "cell_type": "code",
      "execution_count": null,
      "metadata": {
        "colab": {
          "background_save": true,
          "base_uri": "https://localhost:8080/"
        },
        "id": "rqByALe1d5tc",
        "outputId": "226eebe1-2e75-43a0-bbee-6af9c907d0b4"
      },
      "outputs": [
        {
          "name": "stdout",
          "output_type": "stream",
          "text": [
            "name Favour\n",
            "study routine 5\n",
            "animal science ['nitrion', 'physiology']\n"
          ]
        }
      ],
      "source": [
        "for key,value in agric_uniuyo_dict.items():\n",
        "  print(key,value)"
      ]
    },
    {
      "cell_type": "code",
      "execution_count": null,
      "metadata": {
        "colab": {
          "background_save": true,
          "base_uri": "https://localhost:8080/"
        },
        "id": "77LXB-D6eVsS",
        "outputId": "7f85e8b6-1958-47d6-85c2-681139f59acf"
      },
      "outputs": [
        {
          "name": "stdout",
          "output_type": "stream",
          "text": [
            "vanilla marshmellow\n",
            "vanilla sprinkles\n",
            "vanilla choco balls\n",
            "chocolate marshmellow\n",
            "chocolate sprinkles\n",
            "chocolate choco balls\n",
            "strawberry marshmellow\n",
            "strawberry sprinkles\n",
            "strawberry choco balls\n"
          ]
        }
      ],
      "source": [
        "#Nested For Loops\n",
        "flavours=['vanilla','chocolate','strawberry']\n",
        "toppings=['marshmellow','sprinkles','choco balls']\n",
        "for flavour in flavours:\n",
        "  for topping in toppings:\n",
        "    print(flavour,topping)"
      ]
    },
    {
      "cell_type": "markdown",
      "metadata": {
        "id": "-q0itqE5fy9u"
      },
      "source": [
        "#WHILE LOOPS"
      ]
    },
    {
      "cell_type": "code",
      "execution_count": 2,
      "metadata": {
        "colab": {
          "base_uri": "https://localhost:8080/"
        },
        "id": "wJ8ycrjof55u",
        "outputId": "56dfa043-0736-4d2f-ea7d-33d96672a146"
      },
      "outputs": [
        {
          "output_type": "stream",
          "name": "stdout",
          "text": [
            "1\n",
            "2\n",
            "3\n",
            "4\n"
          ]
        }
      ],
      "source": [
        "number=1\n",
        "while number<5:\n",
        "  print(number)\n",
        "  number+=1"
      ]
    },
    {
      "cell_type": "code",
      "source": [
        "#Break Statement\n",
        "number=1\n",
        "while number<5:\n",
        "  print(number)\n",
        "  if number==3:\n",
        "    break\n",
        "  number += 1\n",
        "else:\n",
        "  print('no longer true')"
      ],
      "metadata": {
        "colab": {
          "base_uri": "https://localhost:8080/"
        },
        "id": "W-PotwnAjXSL",
        "outputId": "742747ea-c90b-442b-d06c-8f338f60842a"
      },
      "execution_count": 6,
      "outputs": [
        {
          "output_type": "stream",
          "name": "stdout",
          "text": [
            "1\n",
            "2\n",
            "3\n"
          ]
        }
      ]
    },
    {
      "cell_type": "code",
      "source": [
        "#Continue statement\n",
        "number=5\n",
        "while number == 3:\n",
        "  if number==5:\n",
        "    continue\n",
        "  number+=1\n",
        "else:\n",
        "  print('Out of loop')"
      ],
      "metadata": {
        "colab": {
          "base_uri": "https://localhost:8080/"
        },
        "id": "8iLBNLw9kRn7",
        "outputId": "a73f373c-3866-4c44-f83c-59051eaab558"
      },
      "execution_count": 10,
      "outputs": [
        {
          "output_type": "stream",
          "name": "stdout",
          "text": [
            "Out of loop\n"
          ]
        }
      ]
    }
  ],
  "metadata": {
    "colab": {
      "provenance": [],
      "authorship_tag": "ABX9TyOZwU1iI1WqPqdibbPhBjed",
      "include_colab_link": true
    },
    "kernelspec": {
      "display_name": "Python 3",
      "name": "python3"
    },
    "language_info": {
      "name": "python"
    }
  },
  "nbformat": 4,
  "nbformat_minor": 0
}